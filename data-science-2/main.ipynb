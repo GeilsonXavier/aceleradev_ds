{
  "nbformat": 4,
  "nbformat_minor": 0,
  "metadata": {
    "kernelspec": {
      "display_name": "Python 3",
      "language": "python",
      "name": "python3"
    },
    "language_info": {
      "codemirror_mode": {
        "name": "ipython",
        "version": 3
      },
      "file_extension": ".py",
      "mimetype": "text/x-python",
      "name": "python",
      "nbconvert_exporter": "python",
      "pygments_lexer": "ipython3",
      "version": "3.7.3"
    },
    "colab": {
      "name": "mainD4Semana05.ipynb",
      "provenance": [],
      "toc_visible": true
    }
  },
  "cells": [
    {
      "cell_type": "markdown",
      "metadata": {
        "id": "y8ROY9olGltz",
        "colab_type": "text"
      },
      "source": [
        "# Desafio 4\n",
        "\n",
        "Neste desafio, vamos praticar um pouco sobre testes de hipóteses. Utilizaremos o _data set_ [2016 Olympics in Rio de Janeiro](https://www.kaggle.com/rio2016/olympic-games/), que contém dados sobre os atletas das Olimpíadas de 2016 no Rio de Janeiro.\n",
        "\n",
        "Esse _data set_ conta com informações gerais sobre 11538 atletas como nome, nacionalidade, altura, peso e esporte praticado. Estaremos especialmente interessados nas variáveis numéricas altura (`height`) e peso (`weight`). As análises feitas aqui são parte de uma Análise Exploratória de Dados (EDA).\n",
        "\n",
        "> Obs.: Por favor, não modifique o nome das funções de resposta."
      ]
    },
    {
      "cell_type": "markdown",
      "metadata": {
        "id": "X7-XzkagGlt0",
        "colab_type": "text"
      },
      "source": [
        "## _Setup_ geral"
      ]
    },
    {
      "cell_type": "code",
      "metadata": {
        "id": "dxqBjFsvGlt0",
        "colab_type": "code",
        "colab": {
          "base_uri": "https://localhost:8080/",
          "height": 51
        },
        "outputId": "9b06709a-b7b1-45b3-dea8-c23a95c43023"
      },
      "source": [
        "import pandas as pd\n",
        "import matplotlib.pyplot as plt\n",
        "import numpy as np\n",
        "import scipy.stats as sct\n",
        "import seaborn as sns"
      ],
      "execution_count": 1,
      "outputs": [
        {
          "output_type": "stream",
          "text": [
            "/usr/local/lib/python3.6/dist-packages/statsmodels/tools/_testing.py:19: FutureWarning: pandas.util.testing is deprecated. Use the functions in the public API at pandas.testing instead.\n",
            "  import pandas.util.testing as tm\n"
          ],
          "name": "stderr"
        }
      ]
    },
    {
      "cell_type": "code",
      "metadata": {
        "id": "pIdqtlTTGlt3",
        "colab_type": "code",
        "colab": {}
      },
      "source": [
        "# %matplotlib inline\n",
        "\n",
        "from IPython.core.pylabtools import figsize\n",
        "\n",
        "\n",
        "figsize(12, 8)\n",
        "\n",
        "sns.set()"
      ],
      "execution_count": 70,
      "outputs": []
    },
    {
      "cell_type": "code",
      "metadata": {
        "id": "J-66B05_Glt7",
        "colab_type": "code",
        "colab": {}
      },
      "source": [
        "athletes = pd.read_csv(\"athletes.csv\")"
      ],
      "execution_count": 3,
      "outputs": []
    },
    {
      "cell_type": "code",
      "metadata": {
        "id": "T_zuH6xcGlt9",
        "colab_type": "code",
        "colab": {}
      },
      "source": [
        "def get_sample(df, col_name, n=100, seed=42):\n",
        "    \"\"\"Get a sample from a column of a dataframe.\n",
        "    \n",
        "    It drops any numpy.nan entries before sampling. The sampling\n",
        "    is performed without replacement.\n",
        "    \n",
        "    Example of numpydoc for those who haven't seen yet.\n",
        "    \n",
        "    Parameters\n",
        "    ----------\n",
        "    df : pandas.DataFrame\n",
        "        Source dataframe.\n",
        "    col_name : str\n",
        "        Name of the column to be sampled.\n",
        "    n : int\n",
        "        Sample size. Default is 100.\n",
        "    seed : int\n",
        "        Random seed. Default is 42.\n",
        "    \n",
        "    Returns\n",
        "    -------\n",
        "    pandas.Series\n",
        "        Sample of size n from dataframe's column.\n",
        "    \"\"\"\n",
        "    np.random.seed(seed)\n",
        "    \n",
        "    random_idx = np.random.choice(df[col_name].dropna().index, size=n, replace=False)\n",
        "    \n",
        "    return df.loc[random_idx, col_name]"
      ],
      "execution_count": 4,
      "outputs": []
    },
    {
      "cell_type": "markdown",
      "metadata": {
        "id": "j8-QikNqGluA",
        "colab_type": "text"
      },
      "source": [
        "## Inicia sua análise a partir daqui"
      ]
    },
    {
      "cell_type": "code",
      "metadata": {
        "id": "A0kJJvUGGluA",
        "colab_type": "code",
        "colab": {
          "base_uri": "https://localhost:8080/",
          "height": 359
        },
        "outputId": "3d031282-ef47-4b99-995a-c40c283cc5f0"
      },
      "source": [
        "# Sua análise começa aqui.\n",
        "athletes.head(10)"
      ],
      "execution_count": 5,
      "outputs": [
        {
          "output_type": "execute_result",
          "data": {
            "text/html": [
              "<div>\n",
              "<style scoped>\n",
              "    .dataframe tbody tr th:only-of-type {\n",
              "        vertical-align: middle;\n",
              "    }\n",
              "\n",
              "    .dataframe tbody tr th {\n",
              "        vertical-align: top;\n",
              "    }\n",
              "\n",
              "    .dataframe thead th {\n",
              "        text-align: right;\n",
              "    }\n",
              "</style>\n",
              "<table border=\"1\" class=\"dataframe\">\n",
              "  <thead>\n",
              "    <tr style=\"text-align: right;\">\n",
              "      <th></th>\n",
              "      <th>id</th>\n",
              "      <th>name</th>\n",
              "      <th>nationality</th>\n",
              "      <th>sex</th>\n",
              "      <th>dob</th>\n",
              "      <th>height</th>\n",
              "      <th>weight</th>\n",
              "      <th>sport</th>\n",
              "      <th>gold</th>\n",
              "      <th>silver</th>\n",
              "      <th>bronze</th>\n",
              "    </tr>\n",
              "  </thead>\n",
              "  <tbody>\n",
              "    <tr>\n",
              "      <th>0</th>\n",
              "      <td>736041664</td>\n",
              "      <td>A Jesus Garcia</td>\n",
              "      <td>ESP</td>\n",
              "      <td>male</td>\n",
              "      <td>10/17/69</td>\n",
              "      <td>1.72</td>\n",
              "      <td>64.0</td>\n",
              "      <td>athletics</td>\n",
              "      <td>0</td>\n",
              "      <td>0</td>\n",
              "      <td>0</td>\n",
              "    </tr>\n",
              "    <tr>\n",
              "      <th>1</th>\n",
              "      <td>532037425</td>\n",
              "      <td>A Lam Shin</td>\n",
              "      <td>KOR</td>\n",
              "      <td>female</td>\n",
              "      <td>9/23/86</td>\n",
              "      <td>1.68</td>\n",
              "      <td>56.0</td>\n",
              "      <td>fencing</td>\n",
              "      <td>0</td>\n",
              "      <td>0</td>\n",
              "      <td>0</td>\n",
              "    </tr>\n",
              "    <tr>\n",
              "      <th>2</th>\n",
              "      <td>435962603</td>\n",
              "      <td>Aaron Brown</td>\n",
              "      <td>CAN</td>\n",
              "      <td>male</td>\n",
              "      <td>5/27/92</td>\n",
              "      <td>1.98</td>\n",
              "      <td>79.0</td>\n",
              "      <td>athletics</td>\n",
              "      <td>0</td>\n",
              "      <td>0</td>\n",
              "      <td>1</td>\n",
              "    </tr>\n",
              "    <tr>\n",
              "      <th>3</th>\n",
              "      <td>521041435</td>\n",
              "      <td>Aaron Cook</td>\n",
              "      <td>MDA</td>\n",
              "      <td>male</td>\n",
              "      <td>1/2/91</td>\n",
              "      <td>1.83</td>\n",
              "      <td>80.0</td>\n",
              "      <td>taekwondo</td>\n",
              "      <td>0</td>\n",
              "      <td>0</td>\n",
              "      <td>0</td>\n",
              "    </tr>\n",
              "    <tr>\n",
              "      <th>4</th>\n",
              "      <td>33922579</td>\n",
              "      <td>Aaron Gate</td>\n",
              "      <td>NZL</td>\n",
              "      <td>male</td>\n",
              "      <td>11/26/90</td>\n",
              "      <td>1.81</td>\n",
              "      <td>71.0</td>\n",
              "      <td>cycling</td>\n",
              "      <td>0</td>\n",
              "      <td>0</td>\n",
              "      <td>0</td>\n",
              "    </tr>\n",
              "    <tr>\n",
              "      <th>5</th>\n",
              "      <td>173071782</td>\n",
              "      <td>Aaron Royle</td>\n",
              "      <td>AUS</td>\n",
              "      <td>male</td>\n",
              "      <td>1/26/90</td>\n",
              "      <td>1.80</td>\n",
              "      <td>67.0</td>\n",
              "      <td>triathlon</td>\n",
              "      <td>0</td>\n",
              "      <td>0</td>\n",
              "      <td>0</td>\n",
              "    </tr>\n",
              "    <tr>\n",
              "      <th>6</th>\n",
              "      <td>266237702</td>\n",
              "      <td>Aaron Russell</td>\n",
              "      <td>USA</td>\n",
              "      <td>male</td>\n",
              "      <td>6/4/93</td>\n",
              "      <td>2.05</td>\n",
              "      <td>98.0</td>\n",
              "      <td>volleyball</td>\n",
              "      <td>0</td>\n",
              "      <td>0</td>\n",
              "      <td>1</td>\n",
              "    </tr>\n",
              "    <tr>\n",
              "      <th>7</th>\n",
              "      <td>382571888</td>\n",
              "      <td>Aaron Younger</td>\n",
              "      <td>AUS</td>\n",
              "      <td>male</td>\n",
              "      <td>9/25/91</td>\n",
              "      <td>1.93</td>\n",
              "      <td>100.0</td>\n",
              "      <td>aquatics</td>\n",
              "      <td>0</td>\n",
              "      <td>0</td>\n",
              "      <td>0</td>\n",
              "    </tr>\n",
              "    <tr>\n",
              "      <th>8</th>\n",
              "      <td>87689776</td>\n",
              "      <td>Aauri Lorena Bokesa</td>\n",
              "      <td>ESP</td>\n",
              "      <td>female</td>\n",
              "      <td>12/14/88</td>\n",
              "      <td>1.80</td>\n",
              "      <td>62.0</td>\n",
              "      <td>athletics</td>\n",
              "      <td>0</td>\n",
              "      <td>0</td>\n",
              "      <td>0</td>\n",
              "    </tr>\n",
              "    <tr>\n",
              "      <th>9</th>\n",
              "      <td>997877719</td>\n",
              "      <td>Ababel Yeshaneh</td>\n",
              "      <td>ETH</td>\n",
              "      <td>female</td>\n",
              "      <td>7/22/91</td>\n",
              "      <td>1.65</td>\n",
              "      <td>54.0</td>\n",
              "      <td>athletics</td>\n",
              "      <td>0</td>\n",
              "      <td>0</td>\n",
              "      <td>0</td>\n",
              "    </tr>\n",
              "  </tbody>\n",
              "</table>\n",
              "</div>"
            ],
            "text/plain": [
              "          id                 name nationality  ... gold silver  bronze\n",
              "0  736041664       A Jesus Garcia         ESP  ...    0      0       0\n",
              "1  532037425           A Lam Shin         KOR  ...    0      0       0\n",
              "2  435962603          Aaron Brown         CAN  ...    0      0       1\n",
              "3  521041435           Aaron Cook         MDA  ...    0      0       0\n",
              "4   33922579           Aaron Gate         NZL  ...    0      0       0\n",
              "5  173071782          Aaron Royle         AUS  ...    0      0       0\n",
              "6  266237702        Aaron Russell         USA  ...    0      0       1\n",
              "7  382571888        Aaron Younger         AUS  ...    0      0       0\n",
              "8   87689776  Aauri Lorena Bokesa         ESP  ...    0      0       0\n",
              "9  997877719      Ababel Yeshaneh         ETH  ...    0      0       0\n",
              "\n",
              "[10 rows x 11 columns]"
            ]
          },
          "metadata": {
            "tags": []
          },
          "execution_count": 5
        }
      ]
    },
    {
      "cell_type": "code",
      "metadata": {
        "id": "N6PEF4fvHZw8",
        "colab_type": "code",
        "colab": {
          "base_uri": "https://localhost:8080/",
          "height": 323
        },
        "outputId": "414e12a9-8ea7-416f-bbed-d590c423c97c"
      },
      "source": [
        "athletes.info()"
      ],
      "execution_count": 9,
      "outputs": [
        {
          "output_type": "stream",
          "text": [
            "<class 'pandas.core.frame.DataFrame'>\n",
            "RangeIndex: 11538 entries, 0 to 11537\n",
            "Data columns (total 11 columns):\n",
            " #   Column       Non-Null Count  Dtype  \n",
            "---  ------       --------------  -----  \n",
            " 0   id           11538 non-null  int64  \n",
            " 1   name         11538 non-null  object \n",
            " 2   nationality  11538 non-null  object \n",
            " 3   sex          11538 non-null  object \n",
            " 4   dob          11537 non-null  object \n",
            " 5   height       11208 non-null  float64\n",
            " 6   weight       10879 non-null  float64\n",
            " 7   sport        11538 non-null  object \n",
            " 8   gold         11538 non-null  int64  \n",
            " 9   silver       11538 non-null  int64  \n",
            " 10  bronze       11538 non-null  int64  \n",
            "dtypes: float64(2), int64(4), object(5)\n",
            "memory usage: 991.7+ KB\n"
          ],
          "name": "stdout"
        }
      ]
    },
    {
      "cell_type": "code",
      "metadata": {
        "id": "HVZGEt-jHlrz",
        "colab_type": "code",
        "colab": {
          "base_uri": "https://localhost:8080/",
          "height": 221
        },
        "outputId": "ee3afd25-32c7-43f8-8ed2-6afbb78715b3"
      },
      "source": [
        "athletes.isnull().sum()"
      ],
      "execution_count": 10,
      "outputs": [
        {
          "output_type": "execute_result",
          "data": {
            "text/plain": [
              "id               0\n",
              "name             0\n",
              "nationality      0\n",
              "sex              0\n",
              "dob              1\n",
              "height         330\n",
              "weight         659\n",
              "sport            0\n",
              "gold             0\n",
              "silver           0\n",
              "bronze           0\n",
              "dtype: int64"
            ]
          },
          "metadata": {
            "tags": []
          },
          "execution_count": 10
        }
      ]
    },
    {
      "cell_type": "code",
      "metadata": {
        "id": "Z2j01FypHsJB",
        "colab_type": "code",
        "colab": {
          "base_uri": "https://localhost:8080/",
          "height": 297
        },
        "outputId": "ec6031d9-4ebe-4e1a-9603-7d8a9e1773d7"
      },
      "source": [
        "athletes.describe()"
      ],
      "execution_count": 11,
      "outputs": [
        {
          "output_type": "execute_result",
          "data": {
            "text/html": [
              "<div>\n",
              "<style scoped>\n",
              "    .dataframe tbody tr th:only-of-type {\n",
              "        vertical-align: middle;\n",
              "    }\n",
              "\n",
              "    .dataframe tbody tr th {\n",
              "        vertical-align: top;\n",
              "    }\n",
              "\n",
              "    .dataframe thead th {\n",
              "        text-align: right;\n",
              "    }\n",
              "</style>\n",
              "<table border=\"1\" class=\"dataframe\">\n",
              "  <thead>\n",
              "    <tr style=\"text-align: right;\">\n",
              "      <th></th>\n",
              "      <th>id</th>\n",
              "      <th>height</th>\n",
              "      <th>weight</th>\n",
              "      <th>gold</th>\n",
              "      <th>silver</th>\n",
              "      <th>bronze</th>\n",
              "    </tr>\n",
              "  </thead>\n",
              "  <tbody>\n",
              "    <tr>\n",
              "      <th>count</th>\n",
              "      <td>1.153800e+04</td>\n",
              "      <td>11208.000000</td>\n",
              "      <td>10879.000000</td>\n",
              "      <td>11538.000000</td>\n",
              "      <td>11538.000000</td>\n",
              "      <td>11538.000000</td>\n",
              "    </tr>\n",
              "    <tr>\n",
              "      <th>mean</th>\n",
              "      <td>4.999885e+08</td>\n",
              "      <td>1.766282</td>\n",
              "      <td>72.068205</td>\n",
              "      <td>0.057722</td>\n",
              "      <td>0.056769</td>\n",
              "      <td>0.061016</td>\n",
              "    </tr>\n",
              "    <tr>\n",
              "      <th>std</th>\n",
              "      <td>2.908648e+08</td>\n",
              "      <td>0.112719</td>\n",
              "      <td>16.177334</td>\n",
              "      <td>0.255910</td>\n",
              "      <td>0.239147</td>\n",
              "      <td>0.243320</td>\n",
              "    </tr>\n",
              "    <tr>\n",
              "      <th>min</th>\n",
              "      <td>1.834700e+04</td>\n",
              "      <td>1.210000</td>\n",
              "      <td>31.000000</td>\n",
              "      <td>0.000000</td>\n",
              "      <td>0.000000</td>\n",
              "      <td>0.000000</td>\n",
              "    </tr>\n",
              "    <tr>\n",
              "      <th>25%</th>\n",
              "      <td>2.450997e+08</td>\n",
              "      <td>1.690000</td>\n",
              "      <td>60.000000</td>\n",
              "      <td>0.000000</td>\n",
              "      <td>0.000000</td>\n",
              "      <td>0.000000</td>\n",
              "    </tr>\n",
              "    <tr>\n",
              "      <th>50%</th>\n",
              "      <td>5.002011e+08</td>\n",
              "      <td>1.760000</td>\n",
              "      <td>70.000000</td>\n",
              "      <td>0.000000</td>\n",
              "      <td>0.000000</td>\n",
              "      <td>0.000000</td>\n",
              "    </tr>\n",
              "    <tr>\n",
              "      <th>75%</th>\n",
              "      <td>7.539874e+08</td>\n",
              "      <td>1.840000</td>\n",
              "      <td>81.000000</td>\n",
              "      <td>0.000000</td>\n",
              "      <td>0.000000</td>\n",
              "      <td>0.000000</td>\n",
              "    </tr>\n",
              "    <tr>\n",
              "      <th>max</th>\n",
              "      <td>9.999878e+08</td>\n",
              "      <td>2.210000</td>\n",
              "      <td>170.000000</td>\n",
              "      <td>5.000000</td>\n",
              "      <td>2.000000</td>\n",
              "      <td>2.000000</td>\n",
              "    </tr>\n",
              "  </tbody>\n",
              "</table>\n",
              "</div>"
            ],
            "text/plain": [
              "                 id        height  ...        silver        bronze\n",
              "count  1.153800e+04  11208.000000  ...  11538.000000  11538.000000\n",
              "mean   4.999885e+08      1.766282  ...      0.056769      0.061016\n",
              "std    2.908648e+08      0.112719  ...      0.239147      0.243320\n",
              "min    1.834700e+04      1.210000  ...      0.000000      0.000000\n",
              "25%    2.450997e+08      1.690000  ...      0.000000      0.000000\n",
              "50%    5.002011e+08      1.760000  ...      0.000000      0.000000\n",
              "75%    7.539874e+08      1.840000  ...      0.000000      0.000000\n",
              "max    9.999878e+08      2.210000  ...      2.000000      2.000000\n",
              "\n",
              "[8 rows x 6 columns]"
            ]
          },
          "metadata": {
            "tags": []
          },
          "execution_count": 11
        }
      ]
    },
    {
      "cell_type": "markdown",
      "metadata": {
        "id": "eOxxJcXQGluD",
        "colab_type": "text"
      },
      "source": [
        "## Questão 1\n",
        "\n",
        "Considerando uma amostra de tamanho 3000 da coluna `height` obtida com a função `get_sample()`, execute o teste de normalidade de Shapiro-Wilk com a função `scipy.stats.shapiro()`. Podemos afirmar que as alturas são normalmente distribuídas com base nesse teste (ao nível de significância de 5%)? Responda com um boolean (`True` ou `False`)."
      ]
    },
    {
      "cell_type": "code",
      "metadata": {
        "id": "3NBHEdh1MM9M",
        "colab_type": "code",
        "colab": {}
      },
      "source": [
        "sample_height = get_sample(athletes, 'height', n=3000)"
      ],
      "execution_count": 31,
      "outputs": []
    },
    {
      "cell_type": "code",
      "metadata": {
        "id": "zymnyf9xGluD",
        "colab_type": "code",
        "colab": {}
      },
      "source": [
        "def q1():\n",
        "    # Retorne aqui o resultado da questão 1.\n",
        "    return True if sct.shapiro(sample_height) [1] > .05 else False\n",
        "    # pass"
      ],
      "execution_count": 21,
      "outputs": []
    },
    {
      "cell_type": "markdown",
      "metadata": {
        "id": "ml-zWfkIGluG",
        "colab_type": "text"
      },
      "source": [
        "__Para refletir__:\n",
        "\n",
        "* Plote o histograma dessa variável (com, por exemplo, `bins=25`). A forma do gráfico e o resultado do teste são condizentes? Por que?\n",
        "* Plote o qq-plot para essa variável e a analise.\n",
        "* Existe algum nível de significância razoável que nos dê outro resultado no teste? (Não faça isso na prática. Isso é chamado _p-value hacking_, e não é legal)."
      ]
    },
    {
      "cell_type": "markdown",
      "metadata": {
        "id": "N_beLJnVGluH",
        "colab_type": "text"
      },
      "source": [
        "## Questão 2\n",
        "\n",
        "Repita o mesmo procedimento acima, mas agora utilizando o teste de normalidade de Jarque-Bera através da função `scipy.stats.jarque_bera()`. Agora podemos afirmar que as alturas são normalmente distribuídas (ao nível de significância de 5%)? Responda com um boolean (`True` ou `False`)."
      ]
    },
    {
      "cell_type": "code",
      "metadata": {
        "id": "wHN3hTwoGluH",
        "colab_type": "code",
        "colab": {}
      },
      "source": [
        "def q2():\n",
        "    # Retorne aqui o resultado da questão 2.\n",
        "    return True if sct.jarque_bera(sample_height) [1] > .05 else False\n",
        "    # pass"
      ],
      "execution_count": 23,
      "outputs": []
    },
    {
      "cell_type": "markdown",
      "metadata": {
        "id": "7E7bJwb0GluJ",
        "colab_type": "text"
      },
      "source": [
        "__Para refletir__:\n",
        "\n",
        "* Esse resultado faz sentido?"
      ]
    },
    {
      "cell_type": "markdown",
      "metadata": {
        "id": "-D5fbcQSGluK",
        "colab_type": "text"
      },
      "source": [
        "## Questão 3\n",
        "\n",
        "Considerando agora uma amostra de tamanho 3000 da coluna `weight` obtida com a função `get_sample()`. Faça o teste de normalidade de D'Agostino-Pearson utilizando a função `scipy.stats.normaltest()`. Podemos afirmar que os pesos vêm de uma distribuição normal ao nível de significância de 5%? Responda com um boolean (`True` ou `False`)."
      ]
    },
    {
      "cell_type": "code",
      "metadata": {
        "id": "04sZPeA-McQG",
        "colab_type": "code",
        "colab": {}
      },
      "source": [
        "sample_weight = get_sample(athletes, 'weight', n=3000)"
      ],
      "execution_count": 32,
      "outputs": []
    },
    {
      "cell_type": "code",
      "metadata": {
        "id": "hIOEdlgAGluL",
        "colab_type": "code",
        "colab": {}
      },
      "source": [
        "def q3():\n",
        "    # Retorne aqui o resultado da questão 3.\n",
        "    return True if sct.normaltest(sample_weight) [1] > .05 else False\n",
        "    # pass"
      ],
      "execution_count": 33,
      "outputs": []
    },
    {
      "cell_type": "markdown",
      "metadata": {
        "id": "Mblftmr3GluN",
        "colab_type": "text"
      },
      "source": [
        "__Para refletir__:\n",
        "\n",
        "* Plote o histograma dessa variável (com, por exemplo, `bins=25`). A forma do gráfico e o resultado do teste são condizentes? Por que?\n",
        "* Um _box plot_ também poderia ajudar a entender a resposta."
      ]
    },
    {
      "cell_type": "markdown",
      "metadata": {
        "id": "TcYmjrJiGluN",
        "colab_type": "text"
      },
      "source": [
        "## Questão 4\n",
        "\n",
        "Realize uma transformação logarítmica em na amostra de `weight` da questão 3 e repita o mesmo procedimento. Podemos afirmar a normalidade da variável transformada ao nível de significância de 5%? Responda com um boolean (`True` ou `False`)."
      ]
    },
    {
      "cell_type": "code",
      "metadata": {
        "id": "E6id97rXMp_a",
        "colab_type": "code",
        "colab": {}
      },
      "source": [
        "athletes['weight_log'] = np.log(athletes['weight'])\n",
        "sample_weight_log = get_sample(athletes, 'weight_log', n=3000)"
      ],
      "execution_count": 34,
      "outputs": []
    },
    {
      "cell_type": "code",
      "metadata": {
        "id": "bk7YS2blGluO",
        "colab_type": "code",
        "colab": {}
      },
      "source": [
        "def q4():\n",
        "    # Retorne aqui o resultado da questão 4.\n",
        "    return True if sct.normaltest(sample_weight_log) [1] > .05 else False\n",
        "    # pass"
      ],
      "execution_count": 35,
      "outputs": []
    },
    {
      "cell_type": "markdown",
      "metadata": {
        "id": "7NAcgY-pGluQ",
        "colab_type": "text"
      },
      "source": [
        "__Para refletir__:\n",
        "\n",
        "* Plote o histograma dessa variável (com, por exemplo, `bins=25`). A forma do gráfico e o resultado do teste são condizentes? Por que?\n",
        "* Você esperava um resultado diferente agora?"
      ]
    },
    {
      "cell_type": "markdown",
      "metadata": {
        "id": "wmhvaWI_GluQ",
        "colab_type": "text"
      },
      "source": [
        "> __Para as questão 5 6 e 7 a seguir considere todos testes efetuados ao nível de significância de 5%__."
      ]
    },
    {
      "cell_type": "markdown",
      "metadata": {
        "id": "bWflhbR3GluR",
        "colab_type": "text"
      },
      "source": [
        "## Questão 5\n",
        "\n",
        "Obtenha todos atletas brasileiros, norte-americanos e canadenses em `DataFrame`s chamados `bra`, `usa` e `can`,respectivamente. Realize um teste de hipóteses para comparação das médias das alturas (`height`) para amostras independentes e variâncias diferentes com a função `scipy.stats.ttest_ind()` entre `bra` e `usa`. Podemos afirmar que as médias são estatisticamente iguais? Responda com um boolean (`True` ou `False`)."
      ]
    },
    {
      "cell_type": "code",
      "metadata": {
        "id": "wXFHTu0tM2oQ",
        "colab_type": "code",
        "colab": {}
      },
      "source": [
        "bra = athletes.loc[athletes['nationality'] == 'BRA']['height']\n",
        "usa = athletes.loc[athletes['nationality'] == 'USA']['height']\n",
        "can = athletes.loc[athletes['nationality'] == 'CAN']['height']"
      ],
      "execution_count": 40,
      "outputs": []
    },
    {
      "cell_type": "code",
      "metadata": {
        "id": "A-UMC9aTGluS",
        "colab_type": "code",
        "colab": {}
      },
      "source": [
        "def q5():\n",
        "    # Retorne aqui o resultado da questão 5.\n",
        "    statistic, pvalue = sct.ttest_ind(bra, usa, equal_var=False, nan_policy='omit')\n",
        "    return True if pvalue > .05 else False\n",
        "    # pass"
      ],
      "execution_count": 67,
      "outputs": []
    },
    {
      "cell_type": "markdown",
      "metadata": {
        "id": "RlEvKGkhGluU",
        "colab_type": "text"
      },
      "source": [
        "## Questão 6\n",
        "\n",
        "Repita o procedimento da questão 5, mas agora entre as alturas de `bra` e `can`. Podemos afimar agora que as médias são estatisticamente iguais? Reponda com um boolean (`True` ou `False`)."
      ]
    },
    {
      "cell_type": "code",
      "metadata": {
        "id": "1reNMyFYGluV",
        "colab_type": "code",
        "colab": {}
      },
      "source": [
        "def q6():\n",
        "    # Retorne aqui o resultado da questão 6.\n",
        "    statistic, pvalue = sct.ttest_ind(bra, can, equal_var=False, nan_policy='omit')\n",
        "    return True if pvalue > .05 else False\n",
        "    # pass"
      ],
      "execution_count": 68,
      "outputs": []
    },
    {
      "cell_type": "markdown",
      "metadata": {
        "id": "ve9S_DoEGluX",
        "colab_type": "text"
      },
      "source": [
        "## Questão 7\n",
        "\n",
        "Repita o procedimento da questão 6, mas agora entre as alturas de `usa` e `can`. Qual o valor do p-valor retornado? Responda como um único escalar arredondado para oito casas decimais."
      ]
    },
    {
      "cell_type": "code",
      "metadata": {
        "id": "b9FRkcEIGluX",
        "colab_type": "code",
        "colab": {}
      },
      "source": [
        "def q7():\n",
        "    # Retorne aqui o resultado da questão 7.\n",
        "    statistic, pvalue = sct.ttest_ind(usa, can, equal_var=False, nan_policy='omit')\n",
        "    return float(round(pvalue, 8))\n",
        "    # pass"
      ],
      "execution_count": 72,
      "outputs": []
    },
    {
      "cell_type": "markdown",
      "metadata": {
        "id": "dlXx65jtGluZ",
        "colab_type": "text"
      },
      "source": [
        "__Para refletir__:\n",
        "\n",
        "* O resultado faz sentido?\n",
        "* Você consegue interpretar esse p-valor?\n",
        "* Você consegue chegar a esse valor de p-valor a partir da variável de estatística?"
      ]
    }
  ]
}