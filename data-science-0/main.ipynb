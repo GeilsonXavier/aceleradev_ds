{
  "nbformat": 4,
  "nbformat_minor": 0,
  "metadata": {
    "kernelspec": {
      "display_name": "Python 3",
      "language": "python",
      "name": "python3"
    },
    "language_info": {
      "codemirror_mode": {
        "name": "ipython",
        "version": 3
      },
      "file_extension": ".py",
      "mimetype": "text/x-python",
      "name": "python",
      "nbconvert_exporter": "python",
      "pygments_lexer": "ipython3",
      "version": "3.8.0"
    },
    "colab": {
      "name": "main.ipynb",
      "provenance": [],
      "toc_visible": true
    }
  },
  "cells": [
    {
      "cell_type": "markdown",
      "metadata": {
        "id": "En-KO-rZoPcD",
        "colab_type": "text"
      },
      "source": [
        "# Desafio 1\n",
        "\n",
        "Para esse desafio, vamos trabalhar com o data set [Black Friday](https://www.kaggle.com/mehdidag/black-friday), que reúne dados sobre transações de compras em uma loja de varejo.\n",
        "\n",
        "Vamos utilizá-lo para praticar a exploração de data sets utilizando pandas. Você pode fazer toda análise neste mesmo notebook, mas as resposta devem estar nos locais indicados.\n",
        "\n",
        "> Obs.: Por favor, não modifique o nome das funções de resposta."
      ]
    },
    {
      "cell_type": "markdown",
      "metadata": {
        "id": "FCNFB50IoPcE",
        "colab_type": "text"
      },
      "source": [
        "## _Set up_ da análise"
      ]
    },
    {
      "cell_type": "code",
      "metadata": {
        "id": "iK6zMXO8oPcF",
        "colab_type": "code",
        "colab": {}
      },
      "source": [
        "import pandas as pd\n",
        "import numpy as np\n",
        "from sklearn.preprocessing import MinMaxScaler, StandardScaler\n"
      ],
      "execution_count": 40,
      "outputs": []
    },
    {
      "cell_type": "code",
      "metadata": {
        "id": "tCxeRBqqoPcI",
        "colab_type": "code",
        "colab": {}
      },
      "source": [
        "black_friday = pd.read_csv(\"black_friday.csv\")"
      ],
      "execution_count": 41,
      "outputs": []
    },
    {
      "cell_type": "markdown",
      "metadata": {
        "id": "eHNSOUtFoPcK",
        "colab_type": "text"
      },
      "source": [
        "## Inicie sua análise a partir daqui"
      ]
    },
    {
      "cell_type": "markdown",
      "metadata": {
        "id": "0A6lfnrNrzdl",
        "colab_type": "text"
      },
      "source": [
        "Análise questão 01"
      ]
    },
    {
      "cell_type": "code",
      "metadata": {
        "id": "bjBx2O1koPcL",
        "colab_type": "code",
        "colab": {
          "base_uri": "https://localhost:8080/",
          "height": 292
        },
        "outputId": "4e9eccde-94c6-405d-9f6d-bf0333b12775"
      },
      "source": [
        "black_friday.head()"
      ],
      "execution_count": 42,
      "outputs": [
        {
          "output_type": "execute_result",
          "data": {
            "text/html": [
              "<div>\n",
              "<style scoped>\n",
              "    .dataframe tbody tr th:only-of-type {\n",
              "        vertical-align: middle;\n",
              "    }\n",
              "\n",
              "    .dataframe tbody tr th {\n",
              "        vertical-align: top;\n",
              "    }\n",
              "\n",
              "    .dataframe thead th {\n",
              "        text-align: right;\n",
              "    }\n",
              "</style>\n",
              "<table border=\"1\" class=\"dataframe\">\n",
              "  <thead>\n",
              "    <tr style=\"text-align: right;\">\n",
              "      <th></th>\n",
              "      <th>User_ID</th>\n",
              "      <th>Product_ID</th>\n",
              "      <th>Gender</th>\n",
              "      <th>Age</th>\n",
              "      <th>Occupation</th>\n",
              "      <th>City_Category</th>\n",
              "      <th>Stay_In_Current_City_Years</th>\n",
              "      <th>Marital_Status</th>\n",
              "      <th>Product_Category_1</th>\n",
              "      <th>Product_Category_2</th>\n",
              "      <th>Product_Category_3</th>\n",
              "      <th>Purchase</th>\n",
              "    </tr>\n",
              "  </thead>\n",
              "  <tbody>\n",
              "    <tr>\n",
              "      <th>0</th>\n",
              "      <td>1000001</td>\n",
              "      <td>P00069042</td>\n",
              "      <td>F</td>\n",
              "      <td>0-17</td>\n",
              "      <td>10</td>\n",
              "      <td>A</td>\n",
              "      <td>2</td>\n",
              "      <td>0</td>\n",
              "      <td>3</td>\n",
              "      <td>NaN</td>\n",
              "      <td>NaN</td>\n",
              "      <td>8370</td>\n",
              "    </tr>\n",
              "    <tr>\n",
              "      <th>1</th>\n",
              "      <td>1000001</td>\n",
              "      <td>P00248942</td>\n",
              "      <td>F</td>\n",
              "      <td>0-17</td>\n",
              "      <td>10</td>\n",
              "      <td>A</td>\n",
              "      <td>2</td>\n",
              "      <td>0</td>\n",
              "      <td>1</td>\n",
              "      <td>6.0</td>\n",
              "      <td>14.0</td>\n",
              "      <td>15200</td>\n",
              "    </tr>\n",
              "    <tr>\n",
              "      <th>2</th>\n",
              "      <td>1000001</td>\n",
              "      <td>P00087842</td>\n",
              "      <td>F</td>\n",
              "      <td>0-17</td>\n",
              "      <td>10</td>\n",
              "      <td>A</td>\n",
              "      <td>2</td>\n",
              "      <td>0</td>\n",
              "      <td>12</td>\n",
              "      <td>NaN</td>\n",
              "      <td>NaN</td>\n",
              "      <td>1422</td>\n",
              "    </tr>\n",
              "    <tr>\n",
              "      <th>3</th>\n",
              "      <td>1000001</td>\n",
              "      <td>P00085442</td>\n",
              "      <td>F</td>\n",
              "      <td>0-17</td>\n",
              "      <td>10</td>\n",
              "      <td>A</td>\n",
              "      <td>2</td>\n",
              "      <td>0</td>\n",
              "      <td>12</td>\n",
              "      <td>14.0</td>\n",
              "      <td>NaN</td>\n",
              "      <td>1057</td>\n",
              "    </tr>\n",
              "    <tr>\n",
              "      <th>4</th>\n",
              "      <td>1000002</td>\n",
              "      <td>P00285442</td>\n",
              "      <td>M</td>\n",
              "      <td>55+</td>\n",
              "      <td>16</td>\n",
              "      <td>C</td>\n",
              "      <td>4+</td>\n",
              "      <td>0</td>\n",
              "      <td>8</td>\n",
              "      <td>NaN</td>\n",
              "      <td>NaN</td>\n",
              "      <td>7969</td>\n",
              "    </tr>\n",
              "  </tbody>\n",
              "</table>\n",
              "</div>"
            ],
            "text/plain": [
              "   User_ID Product_ID Gender  ... Product_Category_2  Product_Category_3 Purchase\n",
              "0  1000001  P00069042      F  ...                NaN                 NaN     8370\n",
              "1  1000001  P00248942      F  ...                6.0                14.0    15200\n",
              "2  1000001  P00087842      F  ...                NaN                 NaN     1422\n",
              "3  1000001  P00085442      F  ...               14.0                 NaN     1057\n",
              "4  1000002  P00285442      M  ...                NaN                 NaN     7969\n",
              "\n",
              "[5 rows x 12 columns]"
            ]
          },
          "metadata": {
            "tags": []
          },
          "execution_count": 42
        }
      ]
    },
    {
      "cell_type": "code",
      "metadata": {
        "id": "LqPop1kKqacB",
        "colab_type": "code",
        "colab": {}
      },
      "source": [
        "# print('Resposta questão 01: ', q1())"
      ],
      "execution_count": 43,
      "outputs": []
    },
    {
      "cell_type": "markdown",
      "metadata": {
        "id": "5sA7LVUNr8RG",
        "colab_type": "text"
      },
      "source": [
        "Análise questão 02"
      ]
    },
    {
      "cell_type": "code",
      "metadata": {
        "id": "uflHsWmuxnva",
        "colab_type": "code",
        "colab": {
          "base_uri": "https://localhost:8080/",
          "height": 340
        },
        "outputId": "3bdd8e9e-8af0-4567-eebf-1f2bc0179b15"
      },
      "source": [
        "black_friday.info()"
      ],
      "execution_count": 44,
      "outputs": [
        {
          "output_type": "stream",
          "text": [
            "<class 'pandas.core.frame.DataFrame'>\n",
            "RangeIndex: 537577 entries, 0 to 537576\n",
            "Data columns (total 12 columns):\n",
            " #   Column                      Non-Null Count   Dtype  \n",
            "---  ------                      --------------   -----  \n",
            " 0   User_ID                     537577 non-null  int64  \n",
            " 1   Product_ID                  537577 non-null  object \n",
            " 2   Gender                      537577 non-null  object \n",
            " 3   Age                         537577 non-null  object \n",
            " 4   Occupation                  537577 non-null  int64  \n",
            " 5   City_Category               537577 non-null  object \n",
            " 6   Stay_In_Current_City_Years  537577 non-null  object \n",
            " 7   Marital_Status              537577 non-null  int64  \n",
            " 8   Product_Category_1          537577 non-null  int64  \n",
            " 9   Product_Category_2          370591 non-null  float64\n",
            " 10  Product_Category_3          164278 non-null  float64\n",
            " 11  Purchase                    537577 non-null  int64  \n",
            "dtypes: float64(2), int64(5), object(5)\n",
            "memory usage: 49.2+ MB\n"
          ],
          "name": "stdout"
        }
      ]
    },
    {
      "cell_type": "code",
      "metadata": {
        "id": "dl4xtoptsCLq",
        "colab_type": "code",
        "colab": {
          "base_uri": "https://localhost:8080/",
          "height": 34
        },
        "outputId": "077211e1-4c6f-4854-eb4d-1677dfd121ac"
      },
      "source": [
        "black_friday.Gender.unique()"
      ],
      "execution_count": 45,
      "outputs": [
        {
          "output_type": "execute_result",
          "data": {
            "text/plain": [
              "array(['F', 'M'], dtype=object)"
            ]
          },
          "metadata": {
            "tags": []
          },
          "execution_count": 45
        }
      ]
    },
    {
      "cell_type": "code",
      "metadata": {
        "id": "0S1q8viLsVJ9",
        "colab_type": "code",
        "colab": {
          "base_uri": "https://localhost:8080/",
          "height": 51
        },
        "outputId": "892be26d-e5af-440a-dc13-90d6e8510ba8"
      },
      "source": [
        "black_friday.Age.unique()"
      ],
      "execution_count": 46,
      "outputs": [
        {
          "output_type": "execute_result",
          "data": {
            "text/plain": [
              "array(['0-17', '55+', '26-35', '46-50', '51-55', '36-45', '18-25'],\n",
              "      dtype=object)"
            ]
          },
          "metadata": {
            "tags": []
          },
          "execution_count": 46
        }
      ]
    },
    {
      "cell_type": "code",
      "metadata": {
        "id": "c859o54BsbQG",
        "colab_type": "code",
        "colab": {}
      },
      "source": [
        "# print('Resposta questão 02: ', q2())"
      ],
      "execution_count": 47,
      "outputs": []
    },
    {
      "cell_type": "markdown",
      "metadata": {
        "id": "0uIFpPM-wfC_",
        "colab_type": "text"
      },
      "source": [
        "Análise questão 03\n"
      ]
    },
    {
      "cell_type": "code",
      "metadata": {
        "id": "D91E70UjwemQ",
        "colab_type": "code",
        "colab": {}
      },
      "source": [
        "# print('Resposta questão 03: ', q3())"
      ],
      "execution_count": 48,
      "outputs": []
    },
    {
      "cell_type": "markdown",
      "metadata": {
        "colab_type": "text",
        "id": "P08ys69WzQ14"
      },
      "source": [
        "Análise questão 04\n"
      ]
    },
    {
      "cell_type": "code",
      "metadata": {
        "colab_type": "code",
        "id": "VXH93m-tzQ15",
        "colab": {}
      },
      "source": [
        "# print('Resposta questão 04: ', q4())"
      ],
      "execution_count": 49,
      "outputs": []
    },
    {
      "cell_type": "markdown",
      "metadata": {
        "colab_type": "text",
        "id": "edJGDd9s0SI7"
      },
      "source": [
        "Análise questão 05\n"
      ]
    },
    {
      "cell_type": "code",
      "metadata": {
        "colab_type": "code",
        "id": "4X7MAEsp0SJC",
        "colab": {}
      },
      "source": [
        "# print('Resposta questão 05: ', q5())"
      ],
      "execution_count": 50,
      "outputs": []
    },
    {
      "cell_type": "markdown",
      "metadata": {
        "colab_type": "text",
        "id": "hvTDRWErAGiK"
      },
      "source": [
        "Análise questão 06\n"
      ]
    },
    {
      "cell_type": "code",
      "metadata": {
        "colab_type": "code",
        "id": "2VroszhEAK3f",
        "colab": {}
      },
      "source": [
        "# print('Resposta questão 06: ', q6())"
      ],
      "execution_count": 51,
      "outputs": []
    },
    {
      "cell_type": "markdown",
      "metadata": {
        "colab_type": "text",
        "id": "eVyBfSWqB6z-"
      },
      "source": [
        "Análise questão 07\n"
      ]
    },
    {
      "cell_type": "code",
      "metadata": {
        "colab_type": "code",
        "id": "vvxZP55dB60A",
        "colab": {}
      },
      "source": [
        "# print('Resposta questão 07: ', q7())"
      ],
      "execution_count": 52,
      "outputs": []
    },
    {
      "cell_type": "markdown",
      "metadata": {
        "colab_type": "text",
        "id": "zTMFasKUYEhS"
      },
      "source": [
        "Análise questão 08\n"
      ]
    },
    {
      "cell_type": "code",
      "metadata": {
        "colab_type": "code",
        "id": "X4_XMJtuYEhU",
        "colab": {}
      },
      "source": [
        "# print('Resposta questão 08: ', q8())"
      ],
      "execution_count": 53,
      "outputs": []
    },
    {
      "cell_type": "markdown",
      "metadata": {
        "colab_type": "text",
        "id": "GLPM978_eddF"
      },
      "source": [
        "Análise questão 09\n"
      ]
    },
    {
      "cell_type": "code",
      "metadata": {
        "colab_type": "code",
        "id": "1vchESHseddH",
        "colab": {}
      },
      "source": [
        "# print('Resposta questão 09: ', q9())"
      ],
      "execution_count": 54,
      "outputs": []
    },
    {
      "cell_type": "markdown",
      "metadata": {
        "colab_type": "text",
        "id": "DH5gpT1BmJLO"
      },
      "source": [
        "Análise questão 10\n"
      ]
    },
    {
      "cell_type": "code",
      "metadata": {
        "id": "zjZUMNTNn6Mm",
        "colab_type": "code",
        "colab": {
          "base_uri": "https://localhost:8080/",
          "height": 34
        },
        "outputId": "706b6802-2c43-4d27-c854-1ee317819e57"
      },
      "source": [
        "#Verifica a quantidade de valores nulos\n",
        "black_friday.Product_Category_2.isnull().sum()"
      ],
      "execution_count": 55,
      "outputs": [
        {
          "output_type": "execute_result",
          "data": {
            "text/plain": [
              "166986"
            ]
          },
          "metadata": {
            "tags": []
          },
          "execution_count": 55
        }
      ]
    },
    {
      "cell_type": "code",
      "metadata": {
        "id": "pdedTpj2oClu",
        "colab_type": "code",
        "colab": {
          "base_uri": "https://localhost:8080/",
          "height": 34
        },
        "outputId": "361eeda5-682f-44cb-a70f-96ec97e27bd9"
      },
      "source": [
        "#Verifica a quantidade de valores nulos\n",
        "black_friday.Product_Category_3.isnull().sum()"
      ],
      "execution_count": 56,
      "outputs": [
        {
          "output_type": "execute_result",
          "data": {
            "text/plain": [
              "373299"
            ]
          },
          "metadata": {
            "tags": []
          },
          "execution_count": 56
        }
      ]
    },
    {
      "cell_type": "code",
      "metadata": {
        "colab_type": "code",
        "id": "SwmAqr0KmJLQ",
        "colab": {}
      },
      "source": [
        "# print('Resposta questão 10: ', q10())"
      ],
      "execution_count": 57,
      "outputs": []
    },
    {
      "cell_type": "markdown",
      "metadata": {
        "id": "Hrg7CbVxoPcP",
        "colab_type": "text"
      },
      "source": [
        "## Questão 1\n",
        "\n",
        "Quantas observações e quantas colunas há no dataset? Responda no formato de uma tuple `(n_observacoes, n_colunas)`."
      ]
    },
    {
      "cell_type": "code",
      "metadata": {
        "id": "SN_wTPVMoPcP",
        "colab_type": "code",
        "colab": {}
      },
      "source": [
        "def q1():\n",
        "    # Retorne aqui o resultado da questão 1.\n",
        "    return black_friday.shape\n",
        "    # pass"
      ],
      "execution_count": 58,
      "outputs": []
    },
    {
      "cell_type": "markdown",
      "metadata": {
        "id": "BX_x7geOoPcS",
        "colab_type": "text"
      },
      "source": [
        "## Questão 2\n",
        "\n",
        "Há quantas mulheres com idade entre 26 e 35 anos no dataset? Responda como um único escalar."
      ]
    },
    {
      "cell_type": "code",
      "metadata": {
        "id": "ODIPE4V6oPcT",
        "colab_type": "code",
        "colab": {}
      },
      "source": [
        "def q2():\n",
        "    # Retorne aqui o resultado da questão 2.\n",
        "    gender_age_filter = black_friday[(black_friday.Gender.values == \"F\") & (black_friday.Age.values == \"26-35\")]\n",
        "    return gender_age_filter.shape[0]\n",
        "    # pass"
      ],
      "execution_count": 59,
      "outputs": []
    },
    {
      "cell_type": "markdown",
      "metadata": {
        "id": "xNPR5TKJoPcV",
        "colab_type": "text"
      },
      "source": [
        "## Questão 3\n",
        "\n",
        "Quantos usuários únicos há no dataset? Responda como um único escalar."
      ]
    },
    {
      "cell_type": "code",
      "metadata": {
        "id": "WOtb9K_soPcW",
        "colab_type": "code",
        "colab": {}
      },
      "source": [
        "def q3():\n",
        "    # Retorne aqui o resultado da questão 3.\n",
        "    unique_user_id = black_friday.User_ID.nunique()\n",
        "    return unique_user_id\n",
        "    # pass"
      ],
      "execution_count": 60,
      "outputs": []
    },
    {
      "cell_type": "markdown",
      "metadata": {
        "id": "kA-B68h0oPcd",
        "colab_type": "text"
      },
      "source": [
        "## Questão 4\n",
        "\n",
        "Quantos tipos de dados diferentes existem no dataset? Responda como um único escalar."
      ]
    },
    {
      "cell_type": "code",
      "metadata": {
        "id": "oYNa4I-doPce",
        "colab_type": "code",
        "colab": {}
      },
      "source": [
        "def q4():\n",
        "    # Retorne aqui o resultado da questão 4.\n",
        "    return black_friday.dtypes.nunique()\n",
        "    # pass"
      ],
      "execution_count": 61,
      "outputs": []
    },
    {
      "cell_type": "markdown",
      "metadata": {
        "id": "rR8rjn76oPcg",
        "colab_type": "text"
      },
      "source": [
        "## Questão 5\n",
        "\n",
        "Qual porcentagem dos registros possui ao menos um valor null (`None`, `ǸaN` etc)? Responda como um único escalar entre 0 e 1."
      ]
    },
    {
      "cell_type": "code",
      "metadata": {
        "id": "cCVB2G47oPch",
        "colab_type": "code",
        "colab": {}
      },
      "source": [
        "def q5():\n",
        "    # Retorne aqui o resultado da questão 5.\n",
        "    return (black_friday.shape[0] - black_friday.dropna().shape[0]) / black_friday.shape[0]\n",
        "    # pass"
      ],
      "execution_count": 62,
      "outputs": []
    },
    {
      "cell_type": "markdown",
      "metadata": {
        "id": "5bAKBSNGoPcj",
        "colab_type": "text"
      },
      "source": [
        "## Questão 6\n",
        "\n",
        "Quantos valores null existem na variável (coluna) com o maior número de null? Responda como um único escalar."
      ]
    },
    {
      "cell_type": "code",
      "metadata": {
        "id": "ylQ1wqInoPcj",
        "colab_type": "code",
        "colab": {}
      },
      "source": [
        "def q6():\n",
        "    # Retorne aqui o resultado da questão 6.\n",
        "    return max(black_friday.isnull().sum())\n",
        "    # pass"
      ],
      "execution_count": 63,
      "outputs": []
    },
    {
      "cell_type": "markdown",
      "metadata": {
        "id": "ulY2Sql_oPcl",
        "colab_type": "text"
      },
      "source": [
        "## Questão 7\n",
        "\n",
        "Qual o valor mais frequente (sem contar nulls) em `Product_Category_3`? Responda como um único escalar."
      ]
    },
    {
      "cell_type": "code",
      "metadata": {
        "id": "zJF2D9MSoPcm",
        "colab_type": "code",
        "colab": {}
      },
      "source": [
        "def q7():\n",
        "    # Retorne aqui o resultado da questão 7.\n",
        "    return float(black_friday.Product_Category_3.mode())\n",
        "    # pass"
      ],
      "execution_count": 64,
      "outputs": []
    },
    {
      "cell_type": "markdown",
      "metadata": {
        "id": "D3FEtdOroPcp",
        "colab_type": "text"
      },
      "source": [
        "## Questão 8\n",
        "\n",
        "Qual a nova média da variável (coluna) `Purchase` após sua normalização? Responda como um único escalar."
      ]
    },
    {
      "cell_type": "code",
      "metadata": {
        "id": "N0bIpoxXoPcq",
        "colab_type": "code",
        "colab": {}
      },
      "source": [
        "def q8():\n",
        "    # Retorne aqui o resultado da questão 8.\n",
        "    scale = MinMaxScaler()\n",
        "    purchase_normal = scale.fit_transform(black_friday.Purchase.dropna().values.reshape(-1,1))\n",
        "    return float(purchase_normal.mean())\n",
        "    # pass"
      ],
      "execution_count": 65,
      "outputs": []
    },
    {
      "cell_type": "markdown",
      "metadata": {
        "id": "c8kCtLyfoPcs",
        "colab_type": "text"
      },
      "source": [
        "## Questão 9\n",
        "\n",
        "Quantas ocorrências entre -1 e 1 inclusive existem da variáel `Purchase` após sua padronização? Responda como um único escalar."
      ]
    },
    {
      "cell_type": "code",
      "metadata": {
        "id": "OvfnweEeoPct",
        "colab_type": "code",
        "colab": {}
      },
      "source": [
        "def q9():\n",
        "    # Retorne aqui o resultado da questão 9.\n",
        "    scale = StandardScaler()\n",
        "    purchase_std = scale.fit_transform(black_friday.Purchase.dropna().values.reshape(-1,1))\n",
        "    purchase_std_filter_count = ((purchase_std >= -1) & (purchase_std <= 1)).sum()\n",
        "    return int(purchase_std_filter_count)\n",
        "    # pass"
      ],
      "execution_count": 66,
      "outputs": []
    },
    {
      "cell_type": "markdown",
      "metadata": {
        "id": "hjyt5gUFoPcv",
        "colab_type": "text"
      },
      "source": [
        "## Questão 10\n",
        "\n",
        "Podemos afirmar que se uma observação é null em `Product_Category_2` ela também o é em `Product_Category_3`? Responda com um bool (`True`, `False`)."
      ]
    },
    {
      "cell_type": "code",
      "metadata": {
        "id": "MJc-PGcsoPcw",
        "colab_type": "code",
        "colab": {}
      },
      "source": [
        "def q10():\n",
        "    # Retorne aqui o resultado da questão 10.\n",
        "    #Se a quantidade de valores nulos em Product_Category_2 for igual a quantidade de valores nulos em (Product_Category_2 e Product_Category_3) a afirmação é verdadeira\n",
        "    PC2_null_count = black_friday.Product_Category_2.isnull().sum()\n",
        "    PC2_and_PC3_null_count = (black_friday.Product_Category_2.isnull() & black_friday.Product_Category_3.isnull()).sum()\n",
        "    return bool(PC2_null_count == PC2_and_PC3_null_count)\n",
        "    # pass"
      ],
      "execution_count": 67,
      "outputs": []
    }
  ]
}